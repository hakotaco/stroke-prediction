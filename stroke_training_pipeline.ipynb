{
 "cells": [
  {
   "cell_type": "markdown",
   "id": "9fc7503e",
   "metadata": {},
   "source": [
    "# Stroke Prediction Training Pipeline\n",
    "\n",
    "This notebook implements a machine learning pipeline for stroke prediction with the following steps:\n",
    "1. **Missing Value Handling** - Impute missing BMI values\n",
    "2. **Preprocessing** - Scale numerical features and encode categorical features\n",
    "3. **Balancing** - Apply SMOTE to address class imbalance\n",
    "4. **Feature Selection** - Select most predictive features\n",
    "5. **Model Training** - Train and evaluate models with cross-validation\n",
    "\n",
    "**Important**: The original dataset is never modified - all transformations create copies."
   ]
  },
  {
   "cell_type": "markdown",
   "id": "c7537806",
   "metadata": {},
   "source": [
    "## 1. Import Libraries and Load Data"
   ]
  },
  {
   "cell_type": "code",
   "execution_count": 1,
   "id": "51dd97f1",
   "metadata": {},
   "outputs": [
    {
     "name": "stdout",
     "output_type": "stream",
     "text": [
      "✓ Libraries imported successfully\n"
     ]
    }
   ],
   "source": [
    "import numpy as np\n",
    "import pandas as pd\n",
    "import matplotlib.pyplot as plt\n",
    "import seaborn as sns\n",
    "from sklearn.model_selection import train_test_split, StratifiedKFold\n",
    "from sklearn.preprocessing import StandardScaler, OneHotEncoder\n",
    "from sklearn.impute import SimpleImputer\n",
    "from sklearn.compose import ColumnTransformer\n",
    "from sklearn.pipeline import Pipeline\n",
    "from imblearn.over_sampling import SMOTE\n",
    "import warnings\n",
    "warnings.filterwarnings('ignore')\n",
    "\n",
    "# Set display options\n",
    "pd.set_option('display.max_columns', None)\n",
    "plt.style.use('seaborn-v0_8-darkgrid')\n",
    "\n",
    "print(\"✓ Libraries imported successfully\")"
   ]
  },
  {
   "cell_type": "code",
   "execution_count": 2,
   "id": "bd200a9a",
   "metadata": {},
   "outputs": [
    {
     "name": "stdout",
     "output_type": "stream",
     "text": [
      "Dataset loaded: 5110 rows, 12 columns\n",
      "\n",
      "First few rows:\n"
     ]
    },
    {
     "data": {
      "text/html": [
       "<div>\n",
       "<style scoped>\n",
       "    .dataframe tbody tr th:only-of-type {\n",
       "        vertical-align: middle;\n",
       "    }\n",
       "\n",
       "    .dataframe tbody tr th {\n",
       "        vertical-align: top;\n",
       "    }\n",
       "\n",
       "    .dataframe thead th {\n",
       "        text-align: right;\n",
       "    }\n",
       "</style>\n",
       "<table border=\"1\" class=\"dataframe\">\n",
       "  <thead>\n",
       "    <tr style=\"text-align: right;\">\n",
       "      <th></th>\n",
       "      <th>id</th>\n",
       "      <th>gender</th>\n",
       "      <th>age</th>\n",
       "      <th>hypertension</th>\n",
       "      <th>heart_disease</th>\n",
       "      <th>ever_married</th>\n",
       "      <th>work_type</th>\n",
       "      <th>Residence_type</th>\n",
       "      <th>avg_glucose_level</th>\n",
       "      <th>bmi</th>\n",
       "      <th>smoking_status</th>\n",
       "      <th>stroke</th>\n",
       "    </tr>\n",
       "  </thead>\n",
       "  <tbody>\n",
       "    <tr>\n",
       "      <th>0</th>\n",
       "      <td>9046</td>\n",
       "      <td>Male</td>\n",
       "      <td>67.0</td>\n",
       "      <td>0</td>\n",
       "      <td>1</td>\n",
       "      <td>Yes</td>\n",
       "      <td>Private</td>\n",
       "      <td>Urban</td>\n",
       "      <td>228.69</td>\n",
       "      <td>36.6</td>\n",
       "      <td>formerly smoked</td>\n",
       "      <td>1</td>\n",
       "    </tr>\n",
       "    <tr>\n",
       "      <th>1</th>\n",
       "      <td>51676</td>\n",
       "      <td>Female</td>\n",
       "      <td>61.0</td>\n",
       "      <td>0</td>\n",
       "      <td>0</td>\n",
       "      <td>Yes</td>\n",
       "      <td>Self-employed</td>\n",
       "      <td>Rural</td>\n",
       "      <td>202.21</td>\n",
       "      <td>NaN</td>\n",
       "      <td>never smoked</td>\n",
       "      <td>1</td>\n",
       "    </tr>\n",
       "    <tr>\n",
       "      <th>2</th>\n",
       "      <td>31112</td>\n",
       "      <td>Male</td>\n",
       "      <td>80.0</td>\n",
       "      <td>0</td>\n",
       "      <td>1</td>\n",
       "      <td>Yes</td>\n",
       "      <td>Private</td>\n",
       "      <td>Rural</td>\n",
       "      <td>105.92</td>\n",
       "      <td>32.5</td>\n",
       "      <td>never smoked</td>\n",
       "      <td>1</td>\n",
       "    </tr>\n",
       "    <tr>\n",
       "      <th>3</th>\n",
       "      <td>60182</td>\n",
       "      <td>Female</td>\n",
       "      <td>49.0</td>\n",
       "      <td>0</td>\n",
       "      <td>0</td>\n",
       "      <td>Yes</td>\n",
       "      <td>Private</td>\n",
       "      <td>Urban</td>\n",
       "      <td>171.23</td>\n",
       "      <td>34.4</td>\n",
       "      <td>smokes</td>\n",
       "      <td>1</td>\n",
       "    </tr>\n",
       "    <tr>\n",
       "      <th>4</th>\n",
       "      <td>1665</td>\n",
       "      <td>Female</td>\n",
       "      <td>79.0</td>\n",
       "      <td>1</td>\n",
       "      <td>0</td>\n",
       "      <td>Yes</td>\n",
       "      <td>Self-employed</td>\n",
       "      <td>Rural</td>\n",
       "      <td>174.12</td>\n",
       "      <td>24.0</td>\n",
       "      <td>never smoked</td>\n",
       "      <td>1</td>\n",
       "    </tr>\n",
       "  </tbody>\n",
       "</table>\n",
       "</div>"
      ],
      "text/plain": [
       "      id  gender   age  hypertension  heart_disease ever_married  \\\n",
       "0   9046    Male  67.0             0              1          Yes   \n",
       "1  51676  Female  61.0             0              0          Yes   \n",
       "2  31112    Male  80.0             0              1          Yes   \n",
       "3  60182  Female  49.0             0              0          Yes   \n",
       "4   1665  Female  79.0             1              0          Yes   \n",
       "\n",
       "       work_type Residence_type  avg_glucose_level   bmi   smoking_status  \\\n",
       "0        Private          Urban             228.69  36.6  formerly smoked   \n",
       "1  Self-employed          Rural             202.21   NaN     never smoked   \n",
       "2        Private          Rural             105.92  32.5     never smoked   \n",
       "3        Private          Urban             171.23  34.4           smokes   \n",
       "4  Self-employed          Rural             174.12  24.0     never smoked   \n",
       "\n",
       "   stroke  \n",
       "0       1  \n",
       "1       1  \n",
       "2       1  \n",
       "3       1  \n",
       "4       1  "
      ]
     },
     "execution_count": 2,
     "metadata": {},
     "output_type": "execute_result"
    }
   ],
   "source": [
    "# Load the dataset (original remains untouched)\n",
    "df_original = pd.read_csv('data/stroke_data.csv')\n",
    "\n",
    "# Create a working copy\n",
    "df = df_original.copy()\n",
    "\n",
    "print(f\"Dataset loaded: {df.shape[0]} rows, {df.shape[1]} columns\")\n",
    "print(f\"\\nFirst few rows:\")\n",
    "df.head()"
   ]
  },
  {
   "cell_type": "markdown",
   "id": "8501c433",
   "metadata": {},
   "source": [
    "## 2. Exploratory Data Analysis\n"
   ]
  },
  {
   "cell_type": "code",
   "execution_count": 3,
   "id": "0a8deb70",
   "metadata": {},
   "outputs": [
    {
     "name": "stdout",
     "output_type": "stream",
     "text": [
      "================================================================================\n",
      "DATASET OVERVIEW\n",
      "================================================================================\n",
      "\n",
      "Shape: (5110, 12)\n",
      "\n",
      "Columns: ['id', 'gender', 'age', 'hypertension', 'heart_disease', 'ever_married', 'work_type', 'Residence_type', 'avg_glucose_level', 'bmi', 'smoking_status', 'stroke']\n",
      "\n",
      "Data Types:\n",
      "id                     int64\n",
      "gender                object\n",
      "age                  float64\n",
      "hypertension           int64\n",
      "heart_disease          int64\n",
      "ever_married          object\n",
      "work_type             object\n",
      "Residence_type        object\n",
      "avg_glucose_level    float64\n",
      "bmi                  float64\n",
      "smoking_status        object\n",
      "stroke                 int64\n",
      "dtype: object\n"
     ]
    }
   ],
   "source": [
    "# Dataset overview\n",
    "print(\"=\" * 80)\n",
    "print(\"DATASET OVERVIEW\")\n",
    "print(\"=\" * 80)\n",
    "print(f\"\\nShape: {df.shape}\")\n",
    "print(f\"\\nColumns: {df.columns.tolist()}\")\n",
    "print(f\"\\nData Types:\\n{df.dtypes}\")"
   ]
  },
  {
   "cell_type": "code",
   "execution_count": 4,
   "id": "4a505352",
   "metadata": {},
   "outputs": [
    {
     "name": "stdout",
     "output_type": "stream",
     "text": [
      "================================================================================\n",
      "MISSING VALUES\n",
      "================================================================================\n",
      "     Missing Count  Percentage\n",
      "bmi            201    3.933464\n",
      "\n",
      "⚠️ BMI has 201 missing values (3.93%)\n"
     ]
    }
   ],
   "source": [
    "# Check for missing values\n",
    "print(\"=\" * 80)\n",
    "print(\"MISSING VALUES\")\n",
    "print(\"=\" * 80)\n",
    "missing = df.isnull().sum()\n",
    "missing_pct = (df.isnull().sum() / len(df)) * 100\n",
    "missing_df = pd.DataFrame({\n",
    "    'Missing Count': missing[missing > 0],\n",
    "    'Percentage': missing_pct[missing > 0]\n",
    "})\n",
    "print(missing_df)\n",
    "print(f\"\\n⚠️ BMI has {missing['bmi']} missing values ({missing_pct['bmi']:.2f}%)\")"
   ]
  },
  {
   "cell_type": "code",
   "execution_count": 5,
   "id": "e23b7437",
   "metadata": {},
   "outputs": [
    {
     "name": "stdout",
     "output_type": "stream",
     "text": [
      "================================================================================\n",
      "CLASS DISTRIBUTION (TARGET VARIABLE)\n",
      "================================================================================\n",
      "\n",
      "Absolute counts:\n",
      "stroke\n",
      "0    4861\n",
      "1     249\n",
      "Name: count, dtype: int64\n",
      "\n",
      "Percentages:\n",
      "stroke\n",
      "0    95.127202\n",
      "1     4.872798\n",
      "Name: proportion, dtype: float64\n",
      "\n",
      "⚠️ IMBALANCE RATIO: 19.52:1\n",
      "   - Only 4.87% of cases are strokes!\n"
     ]
    }
   ],
   "source": [
    "# Class distribution - THE CRITICAL IMBALANCE\n",
    "print(\"=\" * 80)\n",
    "print(\"CLASS DISTRIBUTION (TARGET VARIABLE)\")\n",
    "print(\"=\" * 80)\n",
    "print(\"\\nAbsolute counts:\")\n",
    "print(df['stroke'].value_counts())\n",
    "print(\"\\nPercentages:\")\n",
    "print(df['stroke'].value_counts(normalize=True) * 100)\n",
    "\n",
    "imbalance_ratio = df['stroke'].value_counts()[0] / df['stroke'].value_counts()[1]\n",
    "print(f\"\\n⚠️ IMBALANCE RATIO: {imbalance_ratio:.2f}:1\")\n",
    "print(f\"   - Only {(df['stroke'].sum() / len(df) * 100):.2f}% of cases are strokes!\")"
   ]
  },
  {
   "cell_type": "code",
   "execution_count": 6,
   "id": "470d28da",
   "metadata": {},
   "outputs": [
    {
     "data": {
      "image/png": "[encoded data removed]",
      "text/plain": [
       "<Figure size 1400x500 with 2 Axes>"
      ]
     },
     "metadata": {},
     "output_type": "display_data"
    },
    {
     "name": "stdout",
     "output_type": "stream",
     "text": [
      "📊 Visualization shows severe class imbalance - SMOTE will be crucial!\n"
     ]
    }
   ],
   "source": [
    "# Visualize class distribution\n",
    "fig, axes = plt.subplots(1, 2, figsize=(14, 5))\n",
    "\n",
    "# Bar plot\n",
    "df['stroke'].value_counts().plot(kind='bar', ax=axes[0], color=['#2ecc71', '#e74c3c'])\n",
    "axes[0].set_title('Class Distribution (Absolute)', fontsize=14, fontweight='bold')\n",
    "axes[0].set_xlabel('Stroke (0=No, 1=Yes)')\n",
    "axes[0].set_ylabel('Count')\n",
    "axes[0].set_xticklabels(['No Stroke', 'Stroke'], rotation=0)\n",
    "axes[0].grid(axis='y', alpha=0.3)\n",
    "\n",
    "# Pie chart\n",
    "colors = ['#2ecc71', '#e74c3c']\n",
    "explode = (0, 0.1)\n",
    "df['stroke'].value_counts().plot(\n",
    "    kind='pie', \n",
    "    ax=axes[1], \n",
    "    autopct='%1.1f%%',\n",
    "    colors=colors,\n",
    "    explode=explode,\n",
    "    labels=['No Stroke', 'Stroke'],\n",
    "    startangle=90\n",
    ")\n",
    "axes[1].set_title('Class Distribution (Percentage)', fontsize=14, fontweight='bold')\n",
    "axes[1].set_ylabel('')\n",
    "\n",
    "plt.tight_layout()\n",
    "plt.show()\n",
    "\n",
    "print(f\"📊 Visualization shows severe class imbalance - SMOTE will be crucial!\")"
   ]
  },
  {
   "cell_type": "markdown",
   "id": "e102ab50",
   "metadata": {},
   "source": [
    "## 3. Data Preparation\n",
    "\n",
    "### 3.1 Separate Features and Target"
   ]
  },
  {
   "cell_type": "code",
   "execution_count": 7,
   "id": "e145d37a",
   "metadata": {},
   "outputs": [
    {
     "name": "stdout",
     "output_type": "stream",
     "text": [
      "Features shape: (5110, 10)\n",
      "Target shape: (5110,)\n",
      "\n",
      "Features: ['gender', 'age', 'hypertension', 'heart_disease', 'ever_married', 'work_type', 'Residence_type', 'avg_glucose_level', 'bmi', 'smoking_status']\n"
     ]
    }
   ],
   "source": [
    "# Drop id column (non-predictive)\n",
    "df_clean = df.drop('id', axis=1)\n",
    "\n",
    "# Separate features and target\n",
    "X = df_clean.drop('stroke', axis=1)\n",
    "y = df_clean['stroke']\n",
    "\n",
    "print(f\"Features shape: {X.shape}\")\n",
    "print(f\"Target shape: {y.shape}\")\n",
    "print(f\"\\nFeatures: {X.columns.tolist()}\")"
   ]
  },
  {
   "cell_type": "code",
   "execution_count": 8,
   "id": "16b718fa",
   "metadata": {},
   "outputs": [
    {
     "name": "stdout",
     "output_type": "stream",
     "text": [
      "================================================================================\n",
      "FEATURE TYPES\n",
      "================================================================================\n",
      "\n",
      "Numerical features (5):\n",
      "  - age\n",
      "  - hypertension\n",
      "  - heart_disease\n",
      "  - avg_glucose_level\n",
      "  - bmi\n",
      "\n",
      "Categorical features (5):\n",
      "  - gender (3 unique values)\n",
      "  - ever_married (2 unique values)\n",
      "  - work_type (5 unique values)\n",
      "  - Residence_type (2 unique values)\n",
      "  - smoking_status (4 unique values)\n"
     ]
    }
   ],
   "source": [
    "# Identify feature types\n",
    "numerical_cols = X.select_dtypes(include=['int64', 'float64']).columns.tolist()\n",
    "categorical_cols = X.select_dtypes(include=['object']).columns.tolist()\n",
    "\n",
    "print(\"=\" * 80)\n",
    "print(\"FEATURE TYPES\")\n",
    "print(\"=\" * 80)\n",
    "print(f\"\\nNumerical features ({len(numerical_cols)}):\")\n",
    "for col in numerical_cols:\n",
    "    print(f\"  - {col}\")\n",
    "    \n",
    "print(f\"\\nCategorical features ({len(categorical_cols)}):\")\n",
    "for col in categorical_cols:\n",
    "    unique_vals = X[col].nunique()\n",
    "    print(f\"  - {col} ({unique_vals} unique values)\")"
   ]
  },
  {
   "cell_type": "markdown",
   "id": "86448c6a",
   "metadata": {},
   "source": [
    "## 4. Step 1: Missing Value Handling\n",
    "\n",
    "We have 201 missing BMI values. We'll use median imputation (robust to outliers)."
   ]
  },
  {
   "cell_type": "code",
   "execution_count": 9,
   "id": "e2d791ed",
   "metadata": {},
   "outputs": [
    {
     "name": "stdout",
     "output_type": "stream",
     "text": [
      "================================================================================\n",
      "BMI ANALYSIS\n",
      "================================================================================\n",
      "\n",
      "BMI Statistics (excluding missing):\n",
      "count    4909.000000\n",
      "mean       28.893237\n",
      "std         7.854067\n",
      "min        10.300000\n",
      "25%        23.500000\n",
      "50%        28.100000\n",
      "75%        33.100000\n",
      "max        97.600000\n",
      "Name: bmi, dtype: float64\n"
     ]
    },
    {
     "data": {
      "image/png": "[encoded data removed]",
      "text/plain": [
       "<Figure size 1400x500 with 2 Axes>"
      ]
     },
     "metadata": {},
     "output_type": "display_data"
    },
    {
     "name": "stdout",
     "output_type": "stream",
     "text": [
      "\n",
      "💡 Using MEDIAN (28.10) for imputation (robust to outliers)\n"
     ]
    }
   ],
   "source": [
    "# Analyze BMI distribution before imputation\n",
    "print(\"=\" * 80)\n",
    "print(\"BMI ANALYSIS\")\n",
    "print(\"=\" * 80)\n",
    "print(f\"\\nBMI Statistics (excluding missing):\")\n",
    "print(X['bmi'].describe())\n",
    "\n",
    "# Visualize BMI distribution\n",
    "fig, axes = plt.subplots(1, 2, figsize=(14, 5))\n",
    "\n",
    "# Histogram\n",
    "X['bmi'].dropna().hist(bins=30, ax=axes[0], color='skyblue', edgecolor='black')\n",
    "axes[0].set_title('BMI Distribution', fontsize=14, fontweight='bold')\n",
    "axes[0].set_xlabel('BMI')\n",
    "axes[0].set_ylabel('Frequency')\n",
    "axes[0].axvline(X['bmi'].median(), color='red', linestyle='--', linewidth=2, label=f'Median: {X[\"bmi\"].median():.2f}')\n",
    "axes[0].axvline(X['bmi'].mean(), color='orange', linestyle='--', linewidth=2, label=f'Mean: {X[\"bmi\"].mean():.2f}')\n",
    "axes[0].legend()\n",
    "axes[0].grid(alpha=0.3)\n",
    "\n",
    "# Box plot\n",
    "X['bmi'].dropna().plot(kind='box', ax=axes[1], color='skyblue')\n",
    "axes[1].set_title('BMI Box Plot (Outlier Detection)', fontsize=14, fontweight='bold')\n",
    "axes[1].set_ylabel('BMI')\n",
    "axes[1].grid(alpha=0.3)\n",
    "\n",
    "plt.tight_layout()\n",
    "plt.show()\n",
    "\n",
    "print(f\"\\n💡 Using MEDIAN ({X['bmi'].median():.2f}) for imputation (robust to outliers)\")"
   ]
  },
  {
   "cell_type": "code",
   "execution_count": 10,
   "id": "5dc2df5d",
   "metadata": {},
   "outputs": [
    {
     "name": "stdout",
     "output_type": "stream",
     "text": [
      "================================================================================\n",
      "MISSING VALUE IMPUTATION RESULTS\n",
      "================================================================================\n",
      "\n",
      "Before imputation:\n",
      "  BMI missing: 201\n",
      "\n",
      "After imputation:\n",
      "  BMI missing: 0\n",
      "\n",
      "✓ All missing values handled!\n",
      "\n",
      "📌 Imputed BMI value: 28.10\n"
     ]
    }
   ],
   "source": [
    "# Create imputer for numerical features (specifically for BMI)\n",
    "numerical_imputer = SimpleImputer(strategy='median')\n",
    "\n",
    "# Apply imputation - create a copy to preserve X\n",
    "X_imputed = X.copy()\n",
    "X_imputed[numerical_cols] = numerical_imputer.fit_transform(X[numerical_cols])\n",
    "\n",
    "print(\"=\" * 80)\n",
    "print(\"MISSING VALUE IMPUTATION RESULTS\")\n",
    "print(\"=\" * 80)\n",
    "print(f\"\\nBefore imputation:\")\n",
    "print(f\"  BMI missing: {X['bmi'].isnull().sum()}\")\n",
    "print(f\"\\nAfter imputation:\")\n",
    "print(f\"  BMI missing: {X_imputed['bmi'].isnull().sum()}\")\n",
    "print(f\"\\n✓ All missing values handled!\")\n",
    "print(f\"\\n📌 Imputed BMI value: {numerical_imputer.statistics_[numerical_cols.index('bmi')]:.2f}\")"
   ]
  },
  {
   "cell_type": "markdown",
   "id": "010dedac",
   "metadata": {},
   "source": [
    "## 5. Step 2: Preprocessing (Scaling & Encoding)\n",
    "\n",
    "We'll create separate transformers for numerical and categorical features, then combine them."
   ]
  },
  {
   "cell_type": "code",
   "execution_count": 12,
   "id": "18625190",
   "metadata": {},
   "outputs": [
    {
     "name": "stdout",
     "output_type": "stream",
     "text": [
      "================================================================================\n",
      "BUILDING PREPROCESSING PIPELINE\n",
      "================================================================================\n",
      "\n",
      "✓ Preprocessing pipeline created:\n",
      "  - Numerical: 5 features → Imputation + StandardScaler\n",
      "  - Categorical: 5 features → OneHotEncoder\n"
     ]
    }
   ],
   "source": [
    "# Create preprocessing pipeline\n",
    "print(\"=\" * 80)\n",
    "print(\"BUILDING PREPROCESSING PIPELINE\")\n",
    "print(\"=\" * 80)\n",
    "\n",
    "# Numerical preprocessing: Imputation + Scaling\n",
    "numerical_transformer = Pipeline(steps=[\n",
    "    ('imputer', SimpleImputer(strategy='median')),\n",
    "    ('scaler', StandardScaler())\n",
    "])\n",
    "\n",
    "# Categorical preprocessing: One-Hot Encoding\n",
    "categorical_transformer = Pipeline(steps=[\n",
    "    ('onehot', OneHotEncoder(drop='first', sparse_output=False, handle_unknown='ignore'))\n",
    "])\n",
    "\n",
    "# Combine transformers\n",
    "preprocessor = ColumnTransformer(\n",
    "    transformers=[\n",
    "        ('num', numerical_transformer, numerical_cols),\n",
    "        ('cat', categorical_transformer, categorical_cols)\n",
    "    ]\n",
    ")\n",
    "\n",
    "print(f\"\\n✓ Preprocessing pipeline created:\")\n",
    "print(f\"  - Numerical: {len(numerical_cols)} features → Imputation + StandardScaler\")\n",
    "print(f\"  - Categorical: {len(categorical_cols)} features → OneHotEncoder\")"
   ]
  },
  {
   "cell_type": "code",
   "execution_count": 13,
   "id": "e8714292",
   "metadata": {},
   "outputs": [
    {
     "name": "stdout",
     "output_type": "stream",
     "text": [
      "================================================================================\n",
      "PREPROCESSING RESULTS\n",
      "================================================================================\n",
      "\n",
      "Original feature count: 10\n",
      "After preprocessing: 16\n",
      "\n",
      "Feature expansion breakdown:\n",
      "  - Numerical features: 5 (unchanged)\n",
      "  - Categorical features: 5 → 11 (after one-hot encoding)\n",
      "\n",
      "✓ All features scaled and encoded!\n",
      "\n",
      "New feature names (first 15):\n",
      "  1. age\n",
      "  2. hypertension\n",
      "  3. heart_disease\n",
      "  4. avg_glucose_level\n",
      "  5. bmi\n",
      "  6. gender_Male\n",
      "  7. gender_Other\n",
      "  8. ever_married_Yes\n",
      "  9. work_type_Never_worked\n",
      "  10. work_type_Private\n",
      "  11. work_type_Self-employed\n",
      "  12. work_type_children\n",
      "  13. Residence_type_Urban\n",
      "  14. smoking_status_formerly smoked\n",
      "  15. smoking_status_never smoked\n",
      "  ... and 1 more\n"
     ]
    }
   ],
   "source": [
    "# Apply preprocessing\n",
    "X_preprocessed = preprocessor.fit_transform(X)\n",
    "\n",
    "# Get feature names after preprocessing\n",
    "num_feature_names = numerical_cols\n",
    "cat_feature_names = preprocessor.named_transformers_['cat']['onehot'].get_feature_names_out(categorical_cols)\n",
    "all_feature_names = num_feature_names + list(cat_feature_names)\n",
    "\n",
    "print(\"=\" * 80)\n",
    "print(\"PREPROCESSING RESULTS\")\n",
    "print(\"=\" * 80)\n",
    "print(f\"\\nOriginal feature count: {X.shape[1]}\")\n",
    "print(f\"After preprocessing: {X_preprocessed.shape[1]}\")\n",
    "print(f\"\\nFeature expansion breakdown:\")\n",
    "print(f\"  - Numerical features: {len(numerical_cols)} (unchanged)\")\n",
    "print(f\"  - Categorical features: {len(categorical_cols)} → {len(cat_feature_names)} (after one-hot encoding)\")\n",
    "print(f\"\\n✓ All features scaled and encoded!\")\n",
    "print(f\"\\nNew feature names (first 15):\")\n",
    "for i, name in enumerate(all_feature_names[:15], 1):\n",
    "    print(f\"  {i}. {name}\")\n",
    "if len(all_feature_names) > 15:\n",
    "    print(f\"  ... and {len(all_feature_names) - 15} more\")"
   ]
  },
  {
   "cell_type": "code",
   "execution_count": 14,
   "id": "65f4c3b6",
   "metadata": {},
   "outputs": [
    {
     "name": "stdout",
     "output_type": "stream",
     "text": [
      "================================================================================\n",
      "VERIFICATION: NUMERICAL FEATURES SCALED CORRECTLY\n",
      "================================================================================\n",
      "\n",
      "Numerical features after scaling (should have mean ≈ 0, std ≈ 1):\n",
      "  age                  - Mean:  0.0000, Std: 1.0001\n",
      "  hypertension         - Mean: -0.0000, Std: 1.0001\n",
      "  heart_disease        - Mean:  0.0000, Std: 1.0001\n",
      "  avg_glucose_level    - Mean:  0.0000, Std: 1.0001\n",
      "  bmi                  - Mean: -0.0000, Std: 1.0001\n",
      "\n",
      "✓ Preprocessing verified successfully!\n"
     ]
    }
   ],
   "source": [
    "# Verify preprocessing: check if features are scaled (mean ≈ 0, std ≈ 1 for numerical)\n",
    "X_preprocessed_df = pd.DataFrame(X_preprocessed, columns=all_feature_names)\n",
    "\n",
    "print(\"=\" * 80)\n",
    "print(\"VERIFICATION: NUMERICAL FEATURES SCALED CORRECTLY\")\n",
    "print(\"=\" * 80)\n",
    "print(\"\\nNumerical features after scaling (should have mean ≈ 0, std ≈ 1):\")\n",
    "for col in numerical_cols:\n",
    "    mean = X_preprocessed_df[col].mean()\n",
    "    std = X_preprocessed_df[col].std()\n",
    "    print(f\"  {col:20s} - Mean: {mean:7.4f}, Std: {std:.4f}\")\n",
    "\n",
    "print(\"\\n✓ Preprocessing verified successfully!\")"
   ]
  },
  {
   "cell_type": "markdown",
   "id": "5a02a622",
   "metadata": {},
   "source": [
    "## 6. Step 3: Class Balancing with SMOTE\n",
    "\n",
    "Now we'll apply SMOTE to create synthetic samples of the minority class (stroke=1).\n",
    "\n",
    "**Important**: SMOTE should only be applied to training data during cross-validation to prevent data leakage!\n",
    "For demonstration purposes, we'll show the effect here, but in the actual training loop, SMOTE will be applied within each CV fold."
   ]
  },
  {
   "cell_type": "code",
   "execution_count": 15,
   "id": "647ae693",
   "metadata": {},
   "outputs": [
    {
     "name": "stdout",
     "output_type": "stream",
     "text": [
      "================================================================================\n",
      "TRAIN-TEST SPLIT\n",
      "================================================================================\n",
      "\n",
      "Training set: 4088 samples\n",
      "Test set: 1022 samples\n",
      "\n",
      "Class distribution in training set:\n",
      "stroke\n",
      "0    3889\n",
      "1     199\n",
      "Name: count, dtype: int64\n",
      "\n",
      "Class distribution in test set:\n",
      "stroke\n",
      "0    972\n",
      "1     50\n",
      "Name: count, dtype: int64\n"
     ]
    }
   ],
   "source": [
    "# Split data first (IMPORTANT: SMOTE only on training set)\n",
    "X_train, X_test, y_train, y_test = train_test_split(\n",
    "    X_preprocessed, y, \n",
    "    test_size=0.2, \n",
    "    random_state=42, \n",
    "    stratify=y  # Maintain class distribution in split\n",
    ")\n",
    "\n",
    "print(\"=\" * 80)\n",
    "print(\"TRAIN-TEST SPLIT\")\n",
    "print(\"=\" * 80)\n",
    "print(f\"\\nTraining set: {X_train.shape[0]} samples\")\n",
    "print(f\"Test set: {X_test.shape[0]} samples\")\n",
    "print(f\"\\nClass distribution in training set:\")\n",
    "print(pd.Series(y_train).value_counts())\n",
    "print(f\"\\nClass distribution in test set:\")\n",
    "print(pd.Series(y_test).value_counts())"
   ]
  },
  {
   "cell_type": "markdown",
   "id": "a931725c",
   "metadata": {},
   "source": [
    "## 7. Step 4: Feature Selection with ANOVA F-test\n",
    "\n",
    "We'll use SelectKBest with ANOVA F-test to identify the most predictive features for stroke prediction.\n",
    "This is a supervised method that considers the relationship between features and the target variable."
   ]
  },
  {
   "cell_type": "code",
   "execution_count": 18,
   "id": "947af713",
   "metadata": {},
   "outputs": [
    {
     "name": "stdout",
     "output_type": "stream",
     "text": [
      "================================================================================\n",
      "FEATURE SELECTION WITH ANOVA F-TEST\n",
      "================================================================================\n",
      "\n",
      "Configuration:\n",
      "  - Method: SelectKBest with ANOVA F-test (f_classif)\n",
      "  - Number of features to select: 10\n",
      "  - Current feature count: 16\n"
     ]
    }
   ],
   "source": [
    "from sklearn.feature_selection import SelectKBest, f_classif\n",
    "\n",
    "# Configure feature selector\n",
    "K_FEATURES = 10  # Number of top features to select (we can also try 5, 10, 15, or 'all')\n",
    "\n",
    "print(\"=\" * 80)\n",
    "print(\"FEATURE SELECTION WITH ANOVA F-TEST\")\n",
    "print(\"=\" * 80)\n",
    "print(f\"\\nConfiguration:\")\n",
    "print(f\"  - Method: SelectKBest with ANOVA F-test (f_classif)\")\n",
    "print(f\"  - Number of features to select: {K_FEATURES}\")\n",
    "print(f\"  - Current feature count: {X_preprocessed.shape[1]}\")"
   ]
  },
  {
   "cell_type": "code",
   "execution_count": 19,
   "id": "5f6d0dfa",
   "metadata": {},
   "outputs": [
    {
     "name": "stdout",
     "output_type": "stream",
     "text": [
      "================================================================================\n",
      "FEATURE SELECTION RESULTS\n",
      "================================================================================\n",
      "\n",
      "Original features: 16\n",
      "Selected features: 10\n",
      "Reduction: 6 features removed\n"
     ]
    }
   ],
   "source": [
    "# Create and fit the selector on training data\n",
    "selector = SelectKBest(score_func=f_classif, k=K_FEATURES)\n",
    "\n",
    "# Fit on training data (before SMOTE to see true relationships)\n",
    "X_train_selected = selector.fit_transform(X_train, y_train)\n",
    "X_test_selected = selector.transform(X_test)\n",
    "\n",
    "print(\"=\" * 80)\n",
    "print(\"FEATURE SELECTION RESULTS\")\n",
    "print(\"=\" * 80)\n",
    "print(f\"\\nOriginal features: {X_train.shape[1]}\")\n",
    "print(f\"Selected features: {X_train_selected.shape[1]}\")\n",
    "print(f\"Reduction: {X_train.shape[1] - X_train_selected.shape[1]} features removed\")"
   ]
  },
  {
   "cell_type": "code",
   "execution_count": 20,
   "id": "0b4bc77a",
   "metadata": {},
   "outputs": [
    {
     "name": "stdout",
     "output_type": "stream",
     "text": [
      "================================================================================\n",
      "FEATURE IMPORTANCE SCORES\n",
      "================================================================================\n",
      "\n",
      "Top features (selected):\n",
      "                       Feature      Score  Selected\n",
      "                           age 257.322261      True\n",
      "                  hypertension  73.701548      True\n",
      "                 heart_disease  66.858476      True\n",
      "             avg_glucose_level  65.203791      True\n",
      "              ever_married_Yes  47.303424      True\n",
      "            work_type_children  30.618133      True\n",
      "       work_type_Self-employed  19.724461      True\n",
      "smoking_status_formerly smoked  16.595258      True\n",
      "                           bmi   5.365192      True\n",
      "          Residence_type_Urban   1.120662      True\n",
      "\n",
      "\n",
      "Removed features:\n",
      "                    Feature    Score  Selected\n",
      "     work_type_Never_worked 0.667114     False\n",
      "      smoking_status_smokes 0.506489     False\n",
      "                gender_Male 0.467624     False\n",
      "smoking_status_never smoked 0.097108     False\n",
      "               gender_Other 0.051158     False\n",
      "          work_type_Private 0.047223     False\n"
     ]
    }
   ],
   "source": [
    "# Get feature scores and rankings\n",
    "feature_scores = pd.DataFrame({\n",
    "    'Feature': all_feature_names,\n",
    "    'Score': selector.scores_,\n",
    "    'Selected': selector.get_support()\n",
    "})\n",
    "\n",
    "# Sort by score\n",
    "feature_scores = feature_scores.sort_values('Score', ascending=False)\n",
    "\n",
    "print(\"=\" * 80)\n",
    "print(\"FEATURE IMPORTANCE SCORES\")\n",
    "print(\"=\" * 80)\n",
    "print(\"\\nTop features (selected):\")\n",
    "print(feature_scores[feature_scores['Selected'] == True].to_string(index=False))\n",
    "\n",
    "print(\"\\n\\nRemoved features:\")\n",
    "print(feature_scores[feature_scores['Selected'] == False].head(10).to_string(index=False))"
   ]
  },
  {
   "cell_type": "code",
   "execution_count": 21,
   "id": "b844e55d",
   "metadata": {},
   "outputs": [
    {
     "data": {
      "image/png": "[encoded data removed]",
      "text/plain": [
       "<Figure size 1600x600 with 2 Axes>"
      ]
     },
     "metadata": {},
     "output_type": "display_data"
    },
    {
     "name": "stdout",
     "output_type": "stream",
     "text": [
      "✓ Feature selection complete!\n"
     ]
    }
   ],
   "source": [
    "# Visualize feature importance\n",
    "fig, axes = plt.subplots(1, 2, figsize=(16, 6))\n",
    "\n",
    "# Bar plot of all features\n",
    "feature_scores_sorted = feature_scores.sort_values('Score', ascending=True)\n",
    "colors = ['#e74c3c' if selected else '#95a5a6' for selected in feature_scores_sorted['Selected']]\n",
    "\n",
    "axes[0].barh(range(len(feature_scores_sorted)), feature_scores_sorted['Score'], color=colors)\n",
    "axes[0].set_yticks(range(len(feature_scores_sorted)))\n",
    "axes[0].set_yticklabels(feature_scores_sorted['Feature'], fontsize=8)\n",
    "axes[0].set_xlabel('ANOVA F-Score', fontsize=12)\n",
    "axes[0].set_title('Feature Importance (Red = Selected, Gray = Removed)', fontsize=14, fontweight='bold')\n",
    "axes[0].grid(axis='x', alpha=0.3)\n",
    "\n",
    "# Top K features only\n",
    "top_k = feature_scores.head(K_FEATURES)\n",
    "axes[1].barh(range(K_FEATURES), top_k['Score'], color='#e74c3c')\n",
    "axes[1].set_yticks(range(K_FEATURES))\n",
    "axes[1].set_yticklabels(top_k['Feature'], fontsize=10)\n",
    "axes[1].set_xlabel('ANOVA F-Score', fontsize=12)\n",
    "axes[1].set_title(f'Top {K_FEATURES} Selected Features', fontsize=14, fontweight='bold')\n",
    "axes[1].grid(axis='x', alpha=0.3)\n",
    "axes[1].invert_yaxis()\n",
    "\n",
    "plt.tight_layout()\n",
    "plt.show()\n",
    "\n",
    "print(f\"✓ Feature selection complete!\")"
   ]
  },
  {
   "cell_type": "code",
   "execution_count": 22,
   "id": "72c76fbd",
   "metadata": {},
   "outputs": [
    {
     "name": "stdout",
     "output_type": "stream",
     "text": [
      "================================================================================\n",
      "APPLYING SMOTE TO SELECTED FEATURES\n",
      "================================================================================\n",
      "\n",
      "Before SMOTE (selected features):\n",
      "  Training samples: 4088\n",
      "  Features: 10\n",
      "  Class 0 (No Stroke): 3889\n",
      "  Class 1 (Stroke): 199\n",
      "\n",
      "After SMOTE (selected features):\n",
      "  Training samples: 7778\n",
      "  Features: 10\n",
      "  Class 0 (No Stroke): 3889\n",
      "  Class 1 (Stroke): 3889\n",
      "\n",
      "✓ Data ready for model training with 10 most predictive features!\n",
      "⚠️ Remember: In production, feature selection and SMOTE should happen within CV folds\n"
     ]
    }
   ],
   "source": [
    "# Now apply SMOTE to the selected features for training\n",
    "print(\"=\" * 80)\n",
    "print(\"APPLYING SMOTE TO SELECTED FEATURES\")\n",
    "print(\"=\" * 80)\n",
    "\n",
    "smote_selected = SMOTE(sampling_strategy='auto', random_state=42, k_neighbors=5)\n",
    "\n",
    "print(\"\\nBefore SMOTE (selected features):\")\n",
    "print(f\"  Training samples: {X_train_selected.shape[0]}\")\n",
    "print(f\"  Features: {X_train_selected.shape[1]}\")\n",
    "print(f\"  Class 0 (No Stroke): {(y_train == 0).sum()}\")\n",
    "print(f\"  Class 1 (Stroke): {(y_train == 1).sum()}\")\n",
    "\n",
    "# Apply SMOTE to selected features\n",
    "X_train_selected_balanced, y_train_selected_balanced = smote_selected.fit_resample(X_train_selected, y_train)\n",
    "\n",
    "print(\"\\nAfter SMOTE (selected features):\")\n",
    "print(f\"  Training samples: {X_train_selected_balanced.shape[0]}\")\n",
    "print(f\"  Features: {X_train_selected_balanced.shape[1]}\")\n",
    "print(f\"  Class 0 (No Stroke): {(y_train_selected_balanced == 0).sum()}\")\n",
    "print(f\"  Class 1 (Stroke): {(y_train_selected_balanced == 1).sum()}\")\n",
    "\n",
    "print(f\"\\n✓ Data ready for model training with {K_FEATURES} most predictive features!\")\n",
    "print(f\"⚠️ Remember: In production, feature selection and SMOTE should happen within CV folds\")"
   ]
  }
 ],
 "metadata": {
  "kernelspec": {
   "display_name": "venv",
   "language": "python",
   "name": "python3"
  },
  "language_info": {
   "codemirror_mode": {
    "name": "ipython",
    "version": 3
   },
   "file_extension": ".py",
   "mimetype": "text/x-python",
   "name": "python",
   "nbconvert_exporter": "python",
   "pygments_lexer": "ipython3",
   "version": "3.13.4"
  }
 },
 "nbformat": 4,
 "nbformat_minor": 5
}
