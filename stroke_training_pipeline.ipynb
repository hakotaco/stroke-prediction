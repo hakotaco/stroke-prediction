{
 "cells": [
  {
   "cell_type": "markdown",
   "id": "9fc7503e",
   "metadata": {},
   "source": [
    "# Stroke Prediction Training Pipeline\n",
    "\n",
    "This notebook implements a machine learning pipeline for stroke prediction with the following steps:\n",
    "1. **Missing Value Handling** - Impute missing BMI values\n",
    "2. **Preprocessing** - Scale numerical features and encode categorical features\n",
    "3. **Balancing** - Apply SMOTE to address class imbalance\n",
    "4. **Feature Selection** - Select most predictive features\n",
    "5. **Model Training** - Train and evaluate models with cross-validation\n",
    "\n",
    "**Important**: The original dataset is never modified - all transformations create copies."
   ]
  },
  {
   "cell_type": "markdown",
   "id": "c7537806",
   "metadata": {},
   "source": [
    "## 1. Import Libraries and Load Data"
   ]
  },
  {
   "cell_type": "code",
   "execution_count": 1,
   "id": "51dd97f1",
   "metadata": {},
   "outputs": [
    {
     "name": "stdout",
     "output_type": "stream",
     "text": [
      "✓ Libraries imported successfully\n"
     ]
    }
   ],
   "source": [
    "import numpy as np\n",
    "import pandas as pd\n",
    "import matplotlib.pyplot as plt\n",
    "import seaborn as sns\n",
    "from sklearn.model_selection import train_test_split, StratifiedKFold\n",
    "from sklearn.preprocessing import StandardScaler, OneHotEncoder\n",
    "from sklearn.impute import SimpleImputer\n",
    "from sklearn.compose import ColumnTransformer\n",
    "from sklearn.pipeline import Pipeline\n",
    "from imblearn.over_sampling import SMOTE\n",
    "import warnings\n",
    "warnings.filterwarnings('ignore')\n",
    "\n",
    "# Set display options\n",
    "pd.set_option('display.max_columns', None)\n",
    "plt.style.use('seaborn-v0_8-darkgrid')\n",
    "\n",
    "print(\"✓ Libraries imported successfully\")"
   ]
  },
  {
   "cell_type": "code",
   "execution_count": 2,
   "id": "bd200a9a",
   "metadata": {},
   "outputs": [
    {
     "name": "stdout",
     "output_type": "stream",
     "text": [
      "Dataset loaded: 5110 rows, 12 columns\n",
      "\n",
      "First few rows:\n"
     ]
    },
    {
     "data": {
      "text/html": [
       "<div>\n",
       "<style scoped>\n",
       "    .dataframe tbody tr th:only-of-type {\n",
       "        vertical-align: middle;\n",
       "    }\n",
       "\n",
       "    .dataframe tbody tr th {\n",
       "        vertical-align: top;\n",
       "    }\n",
       "\n",
       "    .dataframe thead th {\n",
       "        text-align: right;\n",
       "    }\n",
       "</style>\n",
       "<table border=\"1\" class=\"dataframe\">\n",
       "  <thead>\n",
       "    <tr style=\"text-align: right;\">\n",
       "      <th></th>\n",
       "      <th>id</th>\n",
       "      <th>gender</th>\n",
       "      <th>age</th>\n",
       "      <th>hypertension</th>\n",
       "      <th>heart_disease</th>\n",
       "      <th>ever_married</th>\n",
       "      <th>work_type</th>\n",
       "      <th>Residence_type</th>\n",
       "      <th>avg_glucose_level</th>\n",
       "      <th>bmi</th>\n",
       "      <th>smoking_status</th>\n",
       "      <th>stroke</th>\n",
       "    </tr>\n",
       "  </thead>\n",
       "  <tbody>\n",
       "    <tr>\n",
       "      <th>0</th>\n",
       "      <td>9046</td>\n",
       "      <td>Male</td>\n",
       "      <td>67.0</td>\n",
       "      <td>0</td>\n",
       "      <td>1</td>\n",
       "      <td>Yes</td>\n",
       "      <td>Private</td>\n",
       "      <td>Urban</td>\n",
       "      <td>228.69</td>\n",
       "      <td>36.6</td>\n",
       "      <td>formerly smoked</td>\n",
       "      <td>1</td>\n",
       "    </tr>\n",
       "    <tr>\n",
       "      <th>1</th>\n",
       "      <td>51676</td>\n",
       "      <td>Female</td>\n",
       "      <td>61.0</td>\n",
       "      <td>0</td>\n",
       "      <td>0</td>\n",
       "      <td>Yes</td>\n",
       "      <td>Self-employed</td>\n",
       "      <td>Rural</td>\n",
       "      <td>202.21</td>\n",
       "      <td>NaN</td>\n",
       "      <td>never smoked</td>\n",
       "      <td>1</td>\n",
       "    </tr>\n",
       "    <tr>\n",
       "      <th>2</th>\n",
       "      <td>31112</td>\n",
       "      <td>Male</td>\n",
       "      <td>80.0</td>\n",
       "      <td>0</td>\n",
       "      <td>1</td>\n",
       "      <td>Yes</td>\n",
       "      <td>Private</td>\n",
       "      <td>Rural</td>\n",
       "      <td>105.92</td>\n",
       "      <td>32.5</td>\n",
       "      <td>never smoked</td>\n",
       "      <td>1</td>\n",
       "    </tr>\n",
       "    <tr>\n",
       "      <th>3</th>\n",
       "      <td>60182</td>\n",
       "      <td>Female</td>\n",
       "      <td>49.0</td>\n",
       "      <td>0</td>\n",
       "      <td>0</td>\n",
       "      <td>Yes</td>\n",
       "      <td>Private</td>\n",
       "      <td>Urban</td>\n",
       "      <td>171.23</td>\n",
       "      <td>34.4</td>\n",
       "      <td>smokes</td>\n",
       "      <td>1</td>\n",
       "    </tr>\n",
       "    <tr>\n",
       "      <th>4</th>\n",
       "      <td>1665</td>\n",
       "      <td>Female</td>\n",
       "      <td>79.0</td>\n",
       "      <td>1</td>\n",
       "      <td>0</td>\n",
       "      <td>Yes</td>\n",
       "      <td>Self-employed</td>\n",
       "      <td>Rural</td>\n",
       "      <td>174.12</td>\n",
       "      <td>24.0</td>\n",
       "      <td>never smoked</td>\n",
       "      <td>1</td>\n",
       "    </tr>\n",
       "  </tbody>\n",
       "</table>\n",
       "</div>"
      ],
      "text/plain": [
       "      id  gender   age  hypertension  heart_disease ever_married  \\\n",
       "0   9046    Male  67.0             0              1          Yes   \n",
       "1  51676  Female  61.0             0              0          Yes   \n",
       "2  31112    Male  80.0             0              1          Yes   \n",
       "3  60182  Female  49.0             0              0          Yes   \n",
       "4   1665  Female  79.0             1              0          Yes   \n",
       "\n",
       "       work_type Residence_type  avg_glucose_level   bmi   smoking_status  \\\n",
       "0        Private          Urban             228.69  36.6  formerly smoked   \n",
       "1  Self-employed          Rural             202.21   NaN     never smoked   \n",
       "2        Private          Rural             105.92  32.5     never smoked   \n",
       "3        Private          Urban             171.23  34.4           smokes   \n",
       "4  Self-employed          Rural             174.12  24.0     never smoked   \n",
       "\n",
       "   stroke  \n",
       "0       1  \n",
       "1       1  \n",
       "2       1  \n",
       "3       1  \n",
       "4       1  "
      ]
     },
     "execution_count": 2,
     "metadata": {},
     "output_type": "execute_result"
    }
   ],
   "source": [
    "# Load the dataset (original remains untouched)\n",
    "df_original = pd.read_csv('data/stroke_data.csv')\n",
    "\n",
    "# Create a working copy\n",
    "df = df_original.copy()\n",
    "\n",
    "print(f\"Dataset loaded: {df.shape[0]} rows, {df.shape[1]} columns\")\n",
    "print(f\"\\nFirst few rows:\")\n",
    "df.head()"
   ]
  },
  {
   "cell_type": "markdown",
   "id": "8501c433",
   "metadata": {},
   "source": [
    "## 2. Exploratory Data Analysis\n"
   ]
  },
  {
   "cell_type": "code",
   "execution_count": 3,
   "id": "0a8deb70",
   "metadata": {},
   "outputs": [
    {
     "name": "stdout",
     "output_type": "stream",
     "text": [
      "================================================================================\n",
      "DATASET OVERVIEW\n",
      "================================================================================\n",
      "\n",
      "Shape: (5110, 12)\n",
      "\n",
      "Columns: ['id', 'gender', 'age', 'hypertension', 'heart_disease', 'ever_married', 'work_type', 'Residence_type', 'avg_glucose_level', 'bmi', 'smoking_status', 'stroke']\n",
      "\n",
      "Data Types:\n",
      "id                     int64\n",
      "gender                object\n",
      "age                  float64\n",
      "hypertension           int64\n",
      "heart_disease          int64\n",
      "ever_married          object\n",
      "work_type             object\n",
      "Residence_type        object\n",
      "avg_glucose_level    float64\n",
      "bmi                  float64\n",
      "smoking_status        object\n",
      "stroke                 int64\n",
      "dtype: object\n"
     ]
    }
   ],
   "source": [
    "# Dataset overview\n",
    "print(\"=\" * 80)\n",
    "print(\"DATASET OVERVIEW\")\n",
    "print(\"=\" * 80)\n",
    "print(f\"\\nShape: {df.shape}\")\n",
    "print(f\"\\nColumns: {df.columns.tolist()}\")\n",
    "print(f\"\\nData Types:\\n{df.dtypes}\")"
   ]
  },
  {
   "cell_type": "code",
   "execution_count": 4,
   "id": "4a505352",
   "metadata": {},
   "outputs": [
    {
     "name": "stdout",
     "output_type": "stream",
     "text": [
      "================================================================================\n",
      "MISSING VALUES\n",
      "================================================================================\n",
      "     Missing Count  Percentage\n",
      "bmi            201    3.933464\n",
      "\n",
      "⚠️ BMI has 201 missing values (3.93%)\n"
     ]
    }
   ],
   "source": [
    "# Check for missing values\n",
    "print(\"=\" * 80)\n",
    "print(\"MISSING VALUES\")\n",
    "print(\"=\" * 80)\n",
    "missing = df.isnull().sum()\n",
    "missing_pct = (df.isnull().sum() / len(df)) * 100\n",
    "missing_df = pd.DataFrame({\n",
    "    'Missing Count': missing[missing > 0],\n",
    "    'Percentage': missing_pct[missing > 0]\n",
    "})\n",
    "print(missing_df)\n",
    "print(f\"\\n⚠️ BMI has {missing['bmi']} missing values ({missing_pct['bmi']:.2f}%)\")"
   ]
  },
  {
   "cell_type": "code",
   "execution_count": 5,
   "id": "e23b7437",
   "metadata": {},
   "outputs": [
    {
     "name": "stdout",
     "output_type": "stream",
     "text": [
      "================================================================================\n",
      "CLASS DISTRIBUTION (TARGET VARIABLE)\n",
      "================================================================================\n",
      "\n",
      "Absolute counts:\n",
      "stroke\n",
      "0    4861\n",
      "1     249\n",
      "Name: count, dtype: int64\n",
      "\n",
      "Percentages:\n",
      "stroke\n",
      "0    95.127202\n",
      "1     4.872798\n",
      "Name: proportion, dtype: float64\n",
      "\n",
      "⚠️ IMBALANCE RATIO: 19.52:1\n",
      "   - Only 4.87% of cases are strokes!\n"
     ]
    }
   ],
   "source": [
    "# Class distribution - THE CRITICAL IMBALANCE\n",
    "print(\"=\" * 80)\n",
    "print(\"CLASS DISTRIBUTION (TARGET VARIABLE)\")\n",
    "print(\"=\" * 80)\n",
    "print(\"\\nAbsolute counts:\")\n",
    "print(df['stroke'].value_counts())\n",
    "print(\"\\nPercentages:\")\n",
    "print(df['stroke'].value_counts(normalize=True) * 100)\n",
    "\n",
    "imbalance_ratio = df['stroke'].value_counts()[0] / df['stroke'].value_counts()[1]\n",
    "print(f\"\\n⚠️ IMBALANCE RATIO: {imbalance_ratio:.2f}:1\")\n",
    "print(f\"   - Only {(df['stroke'].sum() / len(df) * 100):.2f}% of cases are strokes!\")"
   ]
  },
  {
   "cell_type": "code",
   "execution_count": 6,
   "id": "470d28da",
   "metadata": {},
   "outputs": [
    {
     "data": {
      "image/png": "[encoded data removed]",
      "text/plain": [
       "<Figure size 1400x500 with 2 Axes>"
      ]
     },
     "metadata": {},
     "output_type": "display_data"
    },
    {
     "name": "stdout",
     "output_type": "stream",
     "text": [
      "📊 Visualization shows severe class imbalance - SMOTE will be crucial!\n"
     ]
    }
   ],
   "source": [
    "# Visualize class distribution\n",
    "fig, axes = plt.subplots(1, 2, figsize=(14, 5))\n",
    "\n",
    "# Bar plot\n",
    "df['stroke'].value_counts().plot(kind='bar', ax=axes[0], color=['#2ecc71', '#e74c3c'])\n",
    "axes[0].set_title('Class Distribution (Absolute)', fontsize=14, fontweight='bold')\n",
    "axes[0].set_xlabel('Stroke (0=No, 1=Yes)')\n",
    "axes[0].set_ylabel('Count')\n",
    "axes[0].set_xticklabels(['No Stroke', 'Stroke'], rotation=0)\n",
    "axes[0].grid(axis='y', alpha=0.3)\n",
    "\n",
    "# Pie chart\n",
    "colors = ['#2ecc71', '#e74c3c']\n",
    "explode = (0, 0.1)\n",
    "df['stroke'].value_counts().plot(\n",
    "    kind='pie', \n",
    "    ax=axes[1], \n",
    "    autopct='%1.1f%%',\n",
    "    colors=colors,\n",
    "    explode=explode,\n",
    "    labels=['No Stroke', 'Stroke'],\n",
    "    startangle=90\n",
    ")\n",
    "axes[1].set_title('Class Distribution (Percentage)', fontsize=14, fontweight='bold')\n",
    "axes[1].set_ylabel('')\n",
    "\n",
    "plt.tight_layout()\n",
    "plt.show()\n",
    "\n",
    "print(f\"📊 Visualization shows severe class imbalance - SMOTE will be crucial!\")"
   ]
  },
  {
   "cell_type": "markdown",
   "id": "e102ab50",
   "metadata": {},
   "source": [
    "## 3. Data Preparation\n",
    "\n",
    "### 3.1 Separate Features and Target"
   ]
  },
  {
   "cell_type": "code",
   "execution_count": 7,
   "id": "e145d37a",
   "metadata": {},
   "outputs": [
    {
     "name": "stdout",
     "output_type": "stream",
     "text": [
      "Features shape: (5110, 10)\n",
      "Target shape: (5110,)\n",
      "\n",
      "Features: ['gender', 'age', 'hypertension', 'heart_disease', 'ever_married', 'work_type', 'Residence_type', 'avg_glucose_level', 'bmi', 'smoking_status']\n"
     ]
    }
   ],
   "source": [
    "# Drop id column (non-predictive)\n",
    "df_clean = df.drop('id', axis=1)\n",
    "\n",
    "# Separate features and target\n",
    "X = df_clean.drop('stroke', axis=1)\n",
    "y = df_clean['stroke']\n",
    "\n",
    "print(f\"Features shape: {X.shape}\")\n",
    "print(f\"Target shape: {y.shape}\")\n",
    "print(f\"\\nFeatures: {X.columns.tolist()}\")"
   ]
  },
  {
   "cell_type": "code",
   "execution_count": 8,
   "id": "16b718fa",
   "metadata": {},
   "outputs": [
    {
     "name": "stdout",
     "output_type": "stream",
     "text": [
      "================================================================================\n",
      "FEATURE TYPES\n",
      "================================================================================\n",
      "\n",
      "Numerical features (5):\n",
      "  - age\n",
      "  - hypertension\n",
      "  - heart_disease\n",
      "  - avg_glucose_level\n",
      "  - bmi\n",
      "\n",
      "Categorical features (5):\n",
      "  - gender (3 unique values)\n",
      "  - ever_married (2 unique values)\n",
      "  - work_type (5 unique values)\n",
      "  - Residence_type (2 unique values)\n",
      "  - smoking_status (4 unique values)\n"
     ]
    }
   ],
   "source": [
    "# Identify feature types\n",
    "numerical_cols = X.select_dtypes(include=['int64', 'float64']).columns.tolist()\n",
    "categorical_cols = X.select_dtypes(include=['object']).columns.tolist()\n",
    "\n",
    "print(\"=\" * 80)\n",
    "print(\"FEATURE TYPES\")\n",
    "print(\"=\" * 80)\n",
    "print(f\"\\nNumerical features ({len(numerical_cols)}):\")\n",
    "for col in numerical_cols:\n",
    "    print(f\"  - {col}\")\n",
    "    \n",
    "print(f\"\\nCategorical features ({len(categorical_cols)}):\")\n",
    "for col in categorical_cols:\n",
    "    unique_vals = X[col].nunique()\n",
    "    print(f\"  - {col} ({unique_vals} unique values)\")"
   ]
  },
  {
   "cell_type": "markdown",
   "id": "86448c6a",
   "metadata": {},
   "source": [
    "## 4. Step 1: Missing Value Handling\n",
    "\n",
    "We have 201 missing BMI values. We'll use median imputation (robust to outliers)."
   ]
  },
  {
   "cell_type": "code",
   "execution_count": 9,
   "id": "e2d791ed",
   "metadata": {},
   "outputs": [
    {
     "name": "stdout",
     "output_type": "stream",
     "text": [
      "================================================================================\n",
      "BMI ANALYSIS\n",
      "================================================================================\n",
      "\n",
      "BMI Statistics (excluding missing):\n",
      "count    4909.000000\n",
      "mean       28.893237\n",
      "std         7.854067\n",
      "min        10.300000\n",
      "25%        23.500000\n",
      "50%        28.100000\n",
      "75%        33.100000\n",
      "max        97.600000\n",
      "Name: bmi, dtype: float64\n"
     ]
    },
    {
     "data": {
      "image/png": "[encoded data removed]",
      "text/plain": [
       "<Figure size 1400x500 with 2 Axes>"
      ]
     },
     "metadata": {},
     "output_type": "display_data"
    },
    {
     "name": "stdout",
     "output_type": "stream",
     "text": [
      "\n",
      "💡 Using MEDIAN (28.10) for imputation (robust to outliers)\n"
     ]
    }
   ],
   "source": [
    "# Analyze BMI distribution before imputation\n",
    "print(\"=\" * 80)\n",
    "print(\"BMI ANALYSIS\")\n",
    "print(\"=\" * 80)\n",
    "print(f\"\\nBMI Statistics (excluding missing):\")\n",
    "print(X['bmi'].describe())\n",
    "\n",
    "# Visualize BMI distribution\n",
    "fig, axes = plt.subplots(1, 2, figsize=(14, 5))\n",
    "\n",
    "# Histogram\n",
    "X['bmi'].dropna().hist(bins=30, ax=axes[0], color='skyblue', edgecolor='black')\n",
    "axes[0].set_title('BMI Distribution', fontsize=14, fontweight='bold')\n",
    "axes[0].set_xlabel('BMI')\n",
    "axes[0].set_ylabel('Frequency')\n",
    "axes[0].axvline(X['bmi'].median(), color='red', linestyle='--', linewidth=2, label=f'Median: {X[\"bmi\"].median():.2f}')\n",
    "axes[0].axvline(X['bmi'].mean(), color='orange', linestyle='--', linewidth=2, label=f'Mean: {X[\"bmi\"].mean():.2f}')\n",
    "axes[0].legend()\n",
    "axes[0].grid(alpha=0.3)\n",
    "\n",
    "# Box plot\n",
    "X['bmi'].dropna().plot(kind='box', ax=axes[1], color='skyblue')\n",
    "axes[1].set_title('BMI Box Plot (Outlier Detection)', fontsize=14, fontweight='bold')\n",
    "axes[1].set_ylabel('BMI')\n",
    "axes[1].grid(alpha=0.3)\n",
    "\n",
    "plt.tight_layout()\n",
    "plt.show()\n",
    "\n",
    "print(f\"\\n💡 Using MEDIAN ({X['bmi'].median():.2f}) for imputation (robust to outliers)\")"
   ]
  },
  {
   "cell_type": "code",
   "execution_count": 10,
   "id": "5dc2df5d",
   "metadata": {},
   "outputs": [
    {
     "name": "stdout",
     "output_type": "stream",
     "text": [
      "================================================================================\n",
      "MISSING VALUE IMPUTATION RESULTS\n",
      "================================================================================\n",
      "\n",
      "Before imputation:\n",
      "  BMI missing: 201\n",
      "\n",
      "After imputation:\n",
      "  BMI missing: 0\n",
      "\n",
      "✓ All missing values handled!\n",
      "\n",
      "📌 Imputed BMI value: 28.10\n"
     ]
    }
   ],
   "source": [
    "# Create imputer for numerical features (specifically for BMI)\n",
    "numerical_imputer = SimpleImputer(strategy='median')\n",
    "\n",
    "# Apply imputation - create a copy to preserve X\n",
    "X_imputed = X.copy()\n",
    "X_imputed[numerical_cols] = numerical_imputer.fit_transform(X[numerical_cols])\n",
    "\n",
    "print(\"=\" * 80)\n",
    "print(\"MISSING VALUE IMPUTATION RESULTS\")\n",
    "print(\"=\" * 80)\n",
    "print(f\"\\nBefore imputation:\")\n",
    "print(f\"  BMI missing: {X['bmi'].isnull().sum()}\")\n",
    "print(f\"\\nAfter imputation:\")\n",
    "print(f\"  BMI missing: {X_imputed['bmi'].isnull().sum()}\")\n",
    "print(f\"\\n✓ All missing values handled!\")\n",
    "print(f\"\\n📌 Imputed BMI value: {numerical_imputer.statistics_[numerical_cols.index('bmi')]:.2f}\")"
   ]
  },
  {
   "cell_type": "markdown",
   "id": "010dedac",
   "metadata": {},
   "source": [
    "## 5. Step 2: Preprocessing (Scaling & Encoding)\n",
    "\n",
    "We'll create separate transformers for numerical and categorical features, then combine them."
   ]
  },
  {
   "cell_type": "code",
   "execution_count": null,
   "id": "18625190",
   "metadata": {},
   "outputs": [],
   "source": [
    "# Create preprocessing pipeline\n",
    "print(\"=\" * 80)\n",
    "print(\"BUILDING PREPROCESSING PIPELINE\")\n",
    "print(\"=\" * 80)\n",
    "\n",
    "# Numerical preprocessing: Imputation + Scaling\n",
    "numerical_transformer = Pipeline(steps=[\n",
    "    ('imputer', SimpleImputer(strategy='median')),\n",
    "    ('scaler', StandardScaler())\n",
    "])\n",
    "\n",
    "# Categorical preprocessing: One-Hot Encoding\n",
    "categorical_transformer = Pipeline(steps=[\n",
    "    ('onehot', OneHotEncoder(drop='first', sparse_output=False, handle_unknown='ignore'))\n",
    "])\n",
    "\n",
    "# Combine transformers\n",
    "preprocessor = ColumnTransformer(\n",
    "    transformers=[\n",
    "        ('num', numerical_transformer, numerical_cols),\n",
    "        ('cat', categorical_transformer, categorical_cols)\n",
    "    ]\n",
    ")\n",
    "\n",
    "print(f\"\\n✓ Preprocessing pipeline created:\")\n",
    "print(f\"  - Numerical: {len(numerical_cols)} features → Imputation + StandardScaler\")\n",
    "print(f\"  - Categorical: {len(categorical_cols)} features → OneHotEncoder\")"
   ]
  },
  {
   "cell_type": "code",
   "execution_count": 11,
   "id": "e8714292",
   "metadata": {},
   "outputs": [
    {
     "ename": "NameError",
     "evalue": "name 'preprocessor' is not defined",
     "output_type": "error",
     "traceback": [
      "\u001b[31m---------------------------------------------------------------------------\u001b[39m",
      "\u001b[31mNameError\u001b[39m                                 Traceback (most recent call last)",
      "\u001b[36mCell\u001b[39m\u001b[36m \u001b[39m\u001b[32mIn[11]\u001b[39m\u001b[32m, line 2\u001b[39m\n\u001b[32m      1\u001b[39m \u001b[38;5;66;03m# Apply preprocessing\u001b[39;00m\n\u001b[32m----> \u001b[39m\u001b[32m2\u001b[39m X_preprocessed = \u001b[43mpreprocessor\u001b[49m.fit_transform(X)\n\u001b[32m      4\u001b[39m \u001b[38;5;66;03m# Get feature names after preprocessing\u001b[39;00m\n\u001b[32m      5\u001b[39m num_feature_names = numerical_cols\n",
      "\u001b[31mNameError\u001b[39m: name 'preprocessor' is not defined"
     ]
    }
   ],
   "source": [
    "# Apply preprocessing\n",
    "X_preprocessed = preprocessor.fit_transform(X)\n",
    "\n",
    "# Get feature names after preprocessing\n",
    "num_feature_names = numerical_cols\n",
    "cat_feature_names = preprocessor.named_transformers_['cat']['onehot'].get_feature_names_out(categorical_cols)\n",
    "all_feature_names = num_feature_names + list(cat_feature_names)\n",
    "\n",
    "print(\"=\" * 80)\n",
    "print(\"PREPROCESSING RESULTS\")\n",
    "print(\"=\" * 80)\n",
    "print(f\"\\nOriginal feature count: {X.shape[1]}\")\n",
    "print(f\"After preprocessing: {X_preprocessed.shape[1]}\")\n",
    "print(f\"\\nFeature expansion breakdown:\")\n",
    "print(f\"  - Numerical features: {len(numerical_cols)} (unchanged)\")\n",
    "print(f\"  - Categorical features: {len(categorical_cols)} → {len(cat_feature_names)} (after one-hot encoding)\")\n",
    "print(f\"\\n✓ All features scaled and encoded!\")\n",
    "print(f\"\\nNew feature names (first 15):\")\n",
    "for i, name in enumerate(all_feature_names[:15], 1):\n",
    "    print(f\"  {i}. {name}\")\n",
    "if len(all_feature_names) > 15:\n",
    "    print(f\"  ... and {len(all_feature_names) - 15} more\")"
   ]
  },
  {
   "cell_type": "code",
   "execution_count": null,
   "id": "65f4c3b6",
   "metadata": {},
   "outputs": [],
   "source": [
    "# Verify preprocessing: check if features are scaled (mean ≈ 0, std ≈ 1 for numerical)\n",
    "X_preprocessed_df = pd.DataFrame(X_preprocessed, columns=all_feature_names)\n",
    "\n",
    "print(\"=\" * 80)\n",
    "print(\"VERIFICATION: NUMERICAL FEATURES SCALED CORRECTLY\")\n",
    "print(\"=\" * 80)\n",
    "print(\"\\nNumerical features after scaling (should have mean ≈ 0, std ≈ 1):\")\n",
    "for col in numerical_cols:\n",
    "    mean = X_preprocessed_df[col].mean()\n",
    "    std = X_preprocessed_df[col].std()\n",
    "    print(f\"  {col:20s} - Mean: {mean:7.4f}, Std: {std:.4f}\")\n",
    "\n",
    "print(\"\\n✓ Preprocessing verified successfully!\")"
   ]
  },
  {
   "cell_type": "markdown",
   "id": "5a02a622",
   "metadata": {},
   "source": [
    "## 6. Step 3: Class Balancing with SMOTE\n",
    "\n",
    "Now we'll apply SMOTE to create synthetic samples of the minority class (stroke=1).\n",
    "\n",
    "**Important**: SMOTE should only be applied to training data during cross-validation to prevent data leakage!\n",
    "For demonstration purposes, we'll show the effect here, but in the actual training loop, SMOTE will be applied within each CV fold."
   ]
  },
  {
   "cell_type": "code",
   "execution_count": null,
   "id": "647ae693",
   "metadata": {},
   "outputs": [],
   "source": [
    "# Split data first (IMPORTANT: SMOTE only on training set)\n",
    "X_train, X_test, y_train, y_test = train_test_split(\n",
    "    X_preprocessed, y, \n",
    "    test_size=0.2, \n",
    "    random_state=42, \n",
    "    stratify=y  # Maintain class distribution in split\n",
    ")\n",
    "\n",
    "print(\"=\" * 80)\n",
    "print(\"TRAIN-TEST SPLIT\")\n",
    "print(\"=\" * 80)\n",
    "print(f\"\\nTraining set: {X_train.shape[0]} samples\")\n",
    "print(f\"Test set: {X_test.shape[0]} samples\")\n",
    "print(f\"\\nClass distribution in training set:\")\n",
    "print(pd.Series(y_train).value_counts())\n",
    "print(f\"\\nClass distribution in test set:\")\n",
    "print(pd.Series(y_test).value_counts())"
   ]
  },
  {
   "cell_type": "code",
   "execution_count": null,
   "id": "133670e8",
   "metadata": {},
   "outputs": [],
   "source": [
    "# Apply SMOTE to training data only\n",
    "print(\"=\" * 80)\n",
    "print(\"APPLYING SMOTE TO TRAINING DATA\")\n",
    "print(\"=\" * 80)\n",
    "\n",
    "smote = SMOTE(sampling_strategy='auto', random_state=42, k_neighbors=5)\n",
    "\n",
    "print(\"\\nBefore SMOTE:\")\n",
    "print(f\"  Training samples: {X_train.shape[0]}\")\n",
    "print(f\"  Class 0 (No Stroke): {(y_train == 0).sum()}\")\n",
    "print(f\"  Class 1 (Stroke): {(y_train == 1).sum()}\")\n",
    "print(f\"  Imbalance ratio: {(y_train == 0).sum() / (y_train == 1).sum():.2f}:1\")\n",
    "\n",
    "# Apply SMOTE\n",
    "X_train_balanced, y_train_balanced = smote.fit_resample(X_train, y_train)\n",
    "\n",
    "print(\"\\nAfter SMOTE:\")\n",
    "print(f\"  Training samples: {X_train_balanced.shape[0]}\")\n",
    "print(f\"  Class 0 (No Stroke): {(y_train_balanced == 0).sum()}\")\n",
    "print(f\"  Class 1 (Stroke): {(y_train_balanced == 1).sum()}\")\n",
    "print(f\"  Imbalance ratio: {(y_train_balanced == 0).sum() / (y_train_balanced == 1).sum():.2f}:1\")\n",
    "\n",
    "print(f\"\\n✓ SMOTE created {(y_train_balanced == 1).sum() - (y_train == 1).sum()} synthetic stroke samples!\")\n",
    "print(f\"⚠️ Test set remains unchanged (imbalanced) for realistic evaluation\")"
   ]
  },
  {
   "cell_type": "code",
   "execution_count": null,
   "id": "28fd90c7",
   "metadata": {},
   "outputs": [],
   "source": [
    "# Visualize the effect of SMOTE\n",
    "fig, axes = plt.subplots(1, 2, figsize=(14, 5))\n",
    "\n",
    "# Before SMOTE\n",
    "y_train_counts = pd.Series(y_train).value_counts()\n",
    "y_train_counts.plot(kind='bar', ax=axes[0], color=['#2ecc71', '#e74c3c'])\n",
    "axes[0].set_title('Training Data BEFORE SMOTE', fontsize=14, fontweight='bold')\n",
    "axes[0].set_xlabel('Stroke (0=No, 1=Yes)')\n",
    "axes[0].set_ylabel('Count')\n",
    "axes[0].set_xticklabels(['No Stroke', 'Stroke'], rotation=0)\n",
    "axes[0].grid(axis='y', alpha=0.3)\n",
    "for i, v in enumerate(y_train_counts):\n",
    "    axes[0].text(i, v + 50, str(v), ha='center', fontweight='bold')\n",
    "\n",
    "# After SMOTE\n",
    "y_balanced_counts = pd.Series(y_train_balanced).value_counts()\n",
    "y_balanced_counts.plot(kind='bar', ax=axes[1], color=['#2ecc71', '#e74c3c'])\n",
    "axes[1].set_title('Training Data AFTER SMOTE', fontsize=14, fontweight='bold')\n",
    "axes[1].set_xlabel('Stroke (0=No, 1=Yes)')\n",
    "axes[1].set_ylabel('Count')\n",
    "axes[1].set_xticklabels(['No Stroke', 'Stroke'], rotation=0)\n",
    "axes[1].grid(axis='y', alpha=0.3)\n",
    "for i, v in enumerate(y_balanced_counts):\n",
    "    axes[1].text(i, v + 50, str(v), ha='center', fontweight='bold')\n",
    "\n",
    "plt.tight_layout()\n",
    "plt.show()\n",
    "\n",
    "print(\"📊 Dataset is now balanced for training!\")"
   ]
  }
 ],
 "metadata": {
  "kernelspec": {
   "display_name": "venv",
   "language": "python",
   "name": "python3"
  },
  "language_info": {
   "codemirror_mode": {
    "name": "ipython",
    "version": 3
   },
   "file_extension": ".py",
   "mimetype": "text/x-python",
   "name": "python",
   "nbconvert_exporter": "python",
   "pygments_lexer": "ipython3",
   "version": "3.13.4"
  }
 },
 "nbformat": 4,
 "nbformat_minor": 5
}
